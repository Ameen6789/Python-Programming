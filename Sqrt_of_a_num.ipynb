{
  "nbformat": 4,
  "nbformat_minor": 0,
  "metadata": {
    "colab": {
      "name": "Sqrt_of_a_num",
      "provenance": [],
      "collapsed_sections": [],
      "authorship_tag": "ABX9TyPm5mwkgt9vnFvb6j2af8i+",
      "include_colab_link": true
    },
    "kernelspec": {
      "name": "python3",
      "display_name": "Python 3"
    }
  },
  "cells": [
    {
      "cell_type": "markdown",
      "metadata": {
        "id": "view-in-github",
        "colab_type": "text"
      },
      "source": [
        "<a href=\"https://colab.research.google.com/github/Ameen6789/Class-Assignment-1---Getting-Started-With-Python-Programming/blob/master/Sqrt_of_a_num.ipynb\" target=\"_parent\"><img src=\"https://colab.research.google.com/assets/colab-badge.svg\" alt=\"Open In Colab\"/></a>"
      ]
    },
    {
      "cell_type": "code",
      "metadata": {
        "id": "4u4P7WkFEzFL",
        "colab_type": "code",
        "colab": {
          "base_uri": "https://localhost:8080/",
          "height": 51
        },
        "outputId": "1b9cb621-9cc2-48a1-c24d-dce160ff5ed6"
      },
      "source": [
        " \n",
        "num=float(input(\"Enter a number : \"))\n",
        " \n",
        "root=num**(1/2)\n",
        " \n",
        "print(\"Square root of {} = {}\".format(num,root))"
      ],
      "execution_count": null,
      "outputs": [
        {
          "output_type": "stream",
          "text": [
            "Enter a number : 625\n",
            "Square root of 625.0 = 25.0\n"
          ],
          "name": "stdout"
        }
      ]
    }
  ]
}