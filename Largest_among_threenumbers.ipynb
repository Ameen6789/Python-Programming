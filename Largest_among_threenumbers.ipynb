{
  "nbformat": 4,
  "nbformat_minor": 0,
  "metadata": {
    "colab": {
      "name": "Largest_among_threenumbers",
      "provenance": [],
      "collapsed_sections": [],
      "authorship_tag": "ABX9TyOBj8ywDN8j3e7tSMKzABbh",
      "include_colab_link": true
    },
    "kernelspec": {
      "name": "python3",
      "display_name": "Python 3"
    }
  },
  "cells": [
    {
      "cell_type": "markdown",
      "metadata": {
        "id": "view-in-github",
        "colab_type": "text"
      },
      "source": [
        "<a href=\"https://colab.research.google.com/github/Ameen6789/Class-Assignment-1---Getting-Started-With-Python-Programming/blob/master/Largest_among_threenumbers.ipynb\" target=\"_parent\"><img src=\"https://colab.research.google.com/assets/colab-badge.svg\" alt=\"Open In Colab\"/></a>"
      ]
    },
    {
      "cell_type": "code",
      "metadata": {
        "id": "dh2JYpOaH0JV",
        "colab_type": "code",
        "colab": {
          "base_uri": "https://localhost:8080/",
          "height": 85
        },
        "outputId": "f94084ac-b70e-4d96-a71c-b5fc90670bd6"
      },
      "source": [
        " \n",
        "num_1=int(input(\"Enter first number:\"))\n",
        " \n",
        "num_2=int(input(\"Enter second number:\"))\n",
        " \n",
        "num_3=int(input(\"Enter third number:\"))\n",
        " \n",
        "if(num_1>num_2 and num_1>num_3):\n",
        " \n",
        "  print(\"{} is the largest number\".format(num_1))\n",
        " \n",
        "if(num_2>num_1 and num_2>num_3):\n",
        " \n",
        "  print(\"{} is the largest number\".format(num_2))\n",
        " \n",
        "if(num_3>num_1 and num_3>num_2):\n",
        " \n",
        "  print(\"{} is the largest number\".format(num_3))"
      ],
      "execution_count": 4,
      "outputs": [
        {
          "output_type": "stream",
          "text": [
            "Enter first number:79\n",
            "Enter second number:63\n",
            "Enter third number:87\n",
            "87 is the largest number\n"
          ],
          "name": "stdout"
        }
      ]
    }
  ]
}