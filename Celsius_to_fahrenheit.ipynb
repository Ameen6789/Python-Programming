{
  "nbformat": 4,
  "nbformat_minor": 0,
  "metadata": {
    "colab": {
      "name": "Celsius_to_fahrenheit.ipynb",
      "provenance": [],
      "authorship_tag": "ABX9TyO9PVjmuEYzclVyDPnMV4Fe",
      "include_colab_link": true
    },
    "kernelspec": {
      "name": "python3",
      "display_name": "Python 3"
    }
  },
  "cells": [
    {
      "cell_type": "markdown",
      "metadata": {
        "id": "view-in-github",
        "colab_type": "text"
      },
      "source": [
        "<a href=\"https://colab.research.google.com/github/Ameen6789/Class-Assignment-1---Getting-Started-With-Python-Programming/blob/master/Celsius_to_fahrenheit.ipynb\" target=\"_parent\"><img src=\"https://colab.research.google.com/assets/colab-badge.svg\" alt=\"Open In Colab\"/></a>"
      ]
    },
    {
      "cell_type": "code",
      "metadata": {
        "id": "wwGE1FmWvv7R",
        "colab_type": "code",
        "colab": {
          "base_uri": "https://localhost:8080/",
          "height": 71
        },
        "outputId": "7555f4f8-4084-4c1f-97fc-1526f1921ca9"
      },
      "source": [
        " \n",
        "a=float(input(\"Enter a temperature in celsius : \"))\n",
        " \n",
        "formula=(a*9/5)+32\n",
        " \n",
        "print(\"The Temparature in Fahrenheit : {}\".format(formula))"
      ],
      "execution_count": 2,
      "outputs": [
        {
          "output_type": "stream",
          "text": [
            "Enter a temperature in celsius : 36\n",
            "The Temparature in Fahrenheit : 96.8\n"
          ],
          "name": "stdout"
        }
      ]
    }
  ]
}