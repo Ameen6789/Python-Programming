{
  "nbformat": 4,
  "nbformat_minor": 0,
  "metadata": {
    "colab": {
      "name": "Compare_two_strings.ipynb",
      "provenance": [],
      "collapsed_sections": [],
      "authorship_tag": "ABX9TyP1g8s7Ip4KKyPxBEN95Gn9",
      "include_colab_link": true
    },
    "kernelspec": {
      "name": "python3",
      "display_name": "Python 3"
    }
  },
  "cells": [
    {
      "cell_type": "markdown",
      "metadata": {
        "id": "view-in-github",
        "colab_type": "text"
      },
      "source": [
        "<a href=\"https://colab.research.google.com/github/Ameen6789/Class-Assignment-1---Getting-Started-With-Python-Programming/blob/master/Compare_two_strings.ipynb\" target=\"_parent\"><img src=\"https://colab.research.google.com/assets/colab-badge.svg\" alt=\"Open In Colab\"/></a>"
      ]
    },
    {
      "cell_type": "code",
      "metadata": {
        "id": "n46VMLd2_hHM",
        "colab_type": "code",
        "colab": {
          "base_uri": "https://localhost:8080/",
          "height": 68
        },
        "outputId": "f6e21356-fb72-4fe0-d8a5-8eecd3ed0568"
      },
      "source": [
        " \n",
        "string_1=input(\"Enter the first string : \")\n",
        " \n",
        "string_2=input(\"Enter the second string : \")\n",
        " \n",
        "if(string_1==string_2):\n",
        " \n",
        "  print(\"The two strings are equal\")\n",
        " \n",
        "else:\n",
        " \n",
        "  print(\"Strings are not equal\")"
      ],
      "execution_count": 5,
      "outputs": [
        {
          "output_type": "stream",
          "text": [
            "Enter the first string : Red\n",
            "Enter the second string : ReD\n",
            "Strings are not equal\n"
          ],
          "name": "stdout"
        }
      ]
    }
  ]
}