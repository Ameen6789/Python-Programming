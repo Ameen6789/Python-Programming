{
  "nbformat": 4,
  "nbformat_minor": 0,
  "metadata": {
    "colab": {
      "name": "Add_two_numbers.ipynb",
      "provenance": [],
      "collapsed_sections": [],
      "authorship_tag": "ABX9TyNhyJezSdwuPabrHn0aDTDt",
      "include_colab_link": true
    },
    "kernelspec": {
      "name": "python3",
      "display_name": "Python 3"
    }
  },
  "cells": [
    {
      "cell_type": "markdown",
      "metadata": {
        "id": "view-in-github",
        "colab_type": "text"
      },
      "source": [
        "<a href=\"https://colab.research.google.com/github/Ameen6789/Class-Assignment-1---Getting-Started-With-Python-Programming/blob/master/Add_two_numbers.ipynb\" target=\"_parent\"><img src=\"https://colab.research.google.com/assets/colab-badge.svg\" alt=\"Open In Colab\"/></a>"
      ]
    },
    {
      "cell_type": "code",
      "metadata": {
        "id": "4pGMiPOq5cAa",
        "colab_type": "code",
        "colab": {
          "base_uri": "https://localhost:8080/",
          "height": 68
        },
        "outputId": "14022ecb-776a-45d7-b1bb-13bbfb439e4e"
      },
      "source": [
        "num_1=int(input(\"Enter the first number:\"))\n",
        "num_2=int(input(\"Enter the second number:\"))\n",
        "print(\"Sum of two numbers:{}\".format(num_1+num_2))"
      ],
      "execution_count": 8,
      "outputs": [
        {
          "output_type": "stream",
          "text": [
            "Enter the first number:7\n",
            "Enter the second number:7\n",
            "Sum of two numbers:14\n"
          ],
          "name": "stdout"
        }
      ]
    }
  ]
}