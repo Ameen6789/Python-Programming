{
  "nbformat": 4,
  "nbformat_minor": 0,
  "metadata": {
    "colab": {
      "name": "Work-4_Area_of_triangle.ipynb",
      "provenance": [],
      "collapsed_sections": [],
      "authorship_tag": "ABX9TyNJkewgjvycuKGfltcfUCU4",
      "include_colab_link": true
    },
    "kernelspec": {
      "name": "python3",
      "display_name": "Python 3"
    }
  },
  "cells": [
    {
      "cell_type": "markdown",
      "metadata": {
        "id": "view-in-github",
        "colab_type": "text"
      },
      "source": [
        "<a href=\"https://colab.research.google.com/github/Ameen6789/Class-Assignment-1---Getting-Started-With-Python-Programming/blob/master/Assignment-1/Work_4_Area_of_triangle.ipynb\" target=\"_parent\"><img src=\"https://colab.research.google.com/assets/colab-badge.svg\" alt=\"Open In Colab\"/></a>"
      ]
    },
    {
      "cell_type": "code",
      "metadata": {
        "id": "uxgHaEiZIgTv",
        "colab_type": "code",
        "colab": {
          "base_uri": "https://localhost:8080/",
          "height": 68
        },
        "outputId": "4b87390c-7048-449a-db8b-6fe22b8c3702"
      },
      "source": [
        " base=int(input(\"Enter the base:\"))\n",
        "height=int(input(\"Enter the height:\"))\n",
        "area=0.5*base*height\n",
        "print(\"The area is\",area,\"square units\")"
      ],
      "execution_count": null,
      "outputs": [
        {
          "output_type": "stream",
          "text": [
            "Enter the base:7\n",
            "Enter the height:11\n",
            "The area is 38.5 square units\n"
          ],
          "name": "stdout"
        }
      ]
    }
  ]
}