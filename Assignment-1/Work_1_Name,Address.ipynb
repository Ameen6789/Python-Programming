{
  "nbformat": 4,
  "nbformat_minor": 0,
  "metadata": {
    "colab": {
      "name": "Work_1-Name,Address.ipynb",
      "provenance": [],
      "collapsed_sections": [],
      "authorship_tag": "ABX9TyPHyrBJELzaOmvyw8fkRnsg",
      "include_colab_link": true
    },
    "kernelspec": {
      "name": "python3",
      "display_name": "Python 3"
    }
  },
  "cells": [
    {
      "cell_type": "markdown",
      "metadata": {
        "id": "view-in-github",
        "colab_type": "text"
      },
      "source": [
        "<a href=\"https://colab.research.google.com/github/Ameen6789/Class-Assignment-1---Getting-Started-With-Python-Programming/blob/master/Assignment-1/Work_1_Name%2CAddress.ipynb\" target=\"_parent\"><img src=\"https://colab.research.google.com/assets/colab-badge.svg\" alt=\"Open In Colab\"/></a>"
      ]
    },
    {
      "cell_type": "code",
      "metadata": {
        "id": "RsoF0bz9Bqiq",
        "colab_type": "code",
        "colab": {
          "base_uri": "https://localhost:8080/",
          "height": 88
        },
        "outputId": "f09f11af-ba07-471e-994e-17ec873c838c"
      },
      "source": [
        "name=(\"Azarath Ameen C A\")\n",
        "address=(\"Kainoth,P.O Kalanad,Kasaragod\")\n",
        "number=(7559873037)\n",
        "print(\"Name:{}\\nAddress:{}\\nMobile Number:{}\".format(name,address,number))"
      ],
      "execution_count": null,
      "outputs": [
        {
          "output_type": "stream",
          "text": [
            "Name:Azarath Ameen C A\n",
            "Address:Kainoth,P.O Kalanad,Kasaragod\n",
            "Mobile Number:7559873037\n"
          ],
          "name": "stdout"
        }
      ]
    }
  ]
}