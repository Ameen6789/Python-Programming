{
  "nbformat": 4,
  "nbformat_minor": 0,
  "metadata": {
    "colab": {
      "name": "Work_6-name_and_age.ipynb",
      "provenance": [],
      "collapsed_sections": [],
      "authorship_tag": "ABX9TyPf+1aGmr1aAx1dTEtCr9eo",
      "include_colab_link": true
    },
    "kernelspec": {
      "name": "python3",
      "display_name": "Python 3"
    }
  },
  "cells": [
    {
      "cell_type": "markdown",
      "metadata": {
        "id": "view-in-github",
        "colab_type": "text"
      },
      "source": [
        "<a href=\"https://colab.research.google.com/github/Ameen6789/Class-Assignment-1---Getting-Started-With-Python-Programming/blob/master/Assignment-1/Work_6_name_and_age.ipynb\" target=\"_parent\"><img src=\"https://colab.research.google.com/assets/colab-badge.svg\" alt=\"Open In Colab\"/></a>"
      ]
    },
    {
      "cell_type": "code",
      "metadata": {
        "id": "bfoNPfnoKm1n",
        "colab_type": "code",
        "colab": {
          "base_uri": "https://localhost:8080/",
          "height": 88
        },
        "outputId": "54a8690b-ca7e-49d4-dac3-01d4506b63aa"
      },
      "source": [
        "name=input(\"Enter your name:\")\n",
        "age=int(input(\"Enter your age:\"))\n",
        "print(\"Your Name:{}  Your Age:{}\".format(name,age))"
      ],
      "execution_count": null,
      "outputs": [
        {
          "output_type": "stream",
          "text": [
            "Enter your name:Azarath Ameen C A \n",
            "Enter your age:19\n",
            "Your Name:Azarath Ameen C A   Your Age:19\n"
          ],
          "name": "stdout"
        }
      ]
    }
  ]
}