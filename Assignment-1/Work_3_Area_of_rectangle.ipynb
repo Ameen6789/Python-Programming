{
  "nbformat": 4,
  "nbformat_minor": 0,
  "metadata": {
    "colab": {
      "name": "Work_3-Area_of_rectangle.ipynb",
      "provenance": [],
      "collapsed_sections": [],
      "authorship_tag": "ABX9TyM4mLDnXvSNQ53VIzH02Nf3",
      "include_colab_link": true
    },
    "kernelspec": {
      "name": "python3",
      "display_name": "Python 3"
    }
  },
  "cells": [
    {
      "cell_type": "markdown",
      "metadata": {
        "id": "view-in-github",
        "colab_type": "text"
      },
      "source": [
        "<a href=\"https://colab.research.google.com/github/Ameen6789/Class-Assignment-1---Getting-Started-With-Python-Programming/blob/master/Assignment-1/Work_3_Area_of_rectangle.ipynb\" target=\"_parent\"><img src=\"https://colab.research.google.com/assets/colab-badge.svg\" alt=\"Open In Colab\"/></a>"
      ]
    },
    {
      "cell_type": "code",
      "metadata": {
        "id": "funmhOyiHfMr",
        "colab_type": "code",
        "colab": {
          "base_uri": "https://localhost:8080/",
          "height": 68
        },
        "outputId": "8cd5bec6-1769-4d02-b883-ed5a6c4ff6a8"
      },
      "source": [
        " width=int(input(\"Enter the width:\"))\n",
        "height=int(input(\"Enter the height:\"))\n",
        "area=width*height\n",
        "print(\"The area is\",area,\"square units\")"
      ],
      "execution_count": null,
      "outputs": [
        {
          "output_type": "stream",
          "text": [
            "Enter the width:33\n",
            "Enter the height:22\n",
            "The area is 726 square units\n"
          ],
          "name": "stdout"
        }
      ]
    }
  ]
}