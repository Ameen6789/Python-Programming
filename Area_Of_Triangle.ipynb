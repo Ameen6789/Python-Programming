{
  "nbformat": 4,
  "nbformat_minor": 0,
  "metadata": {
    "colab": {
      "name": "Area_Of_Triangle",
      "provenance": [],
      "collapsed_sections": [],
      "authorship_tag": "ABX9TyOvgSmu35r1//lXUPUL/FQR",
      "include_colab_link": true
    },
    "kernelspec": {
      "name": "python3",
      "display_name": "Python 3"
    }
  },
  "cells": [
    {
      "cell_type": "markdown",
      "metadata": {
        "id": "view-in-github",
        "colab_type": "text"
      },
      "source": [
        "<a href=\"https://colab.research.google.com/github/Ameen6789/Class-Assignment-1---Getting-Started-With-Python-Programming/blob/master/Area_Of_Triangle.ipynb\" target=\"_parent\"><img src=\"https://colab.research.google.com/assets/colab-badge.svg\" alt=\"Open In Colab\"/></a>"
      ]
    },
    {
      "cell_type": "code",
      "metadata": {
        "id": "dh2JYpOaH0JV",
        "colab_type": "code",
        "colab": {
          "base_uri": "https://localhost:8080/",
          "height": 68
        },
        "outputId": "7d3ce41e-dbf7-4bbd-e363-298ad69ee7c4"
      },
      "source": [
        " \n",
        " \n",
        "b=float(input(\"Enter Breadth:\"))\n",
        " \n",
        "h=float(input(\"Enter Height:\"))\n",
        " \n",
        "area=0.5*b*h\n",
        " \n",
        "print(\"Area of the traingle : {}\".format(area))"
      ],
      "execution_count": 2,
      "outputs": [
        {
          "output_type": "stream",
          "text": [
            "Enter Breadth:8\n",
            "Enter Height:9\n",
            "Area of the traingle : 36.0\n"
          ],
          "name": "stdout"
        }
      ]
    }
  ]
}